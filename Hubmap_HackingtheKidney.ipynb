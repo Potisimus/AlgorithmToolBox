{
  "nbformat": 4,
  "nbformat_minor": 0,
  "metadata": {
    "colab": {
      "name": "Hubmap-HackingtheKidney.ipynb",
      "provenance": [],
      "authorship_tag": "ABX9TyNYnMgpCqNs61AVnDduBeZ2",
      "include_colab_link": true
    },
    "kernelspec": {
      "name": "python3",
      "display_name": "Python 3"
    },
    "language_info": {
      "name": "python"
    }
  },
  "cells": [
    {
      "cell_type": "markdown",
      "metadata": {
        "id": "view-in-github",
        "colab_type": "text"
      },
      "source": [
        "<a href=\"https://colab.research.google.com/github/Potisimus/AlgorithmToolBox/blob/master/Hubmap_HackingtheKidney.ipynb\" target=\"_parent\"><img src=\"https://colab.research.google.com/assets/colab-badge.svg\" alt=\"Open In Colab\"/></a>"
      ]
    },
    {
      "cell_type": "code",
      "metadata": {
        "id": "bAVBhQdspW-P"
      },
      "source": [
        "# Libraries\n",
        "import cv2\n"
      ],
      "execution_count": null,
      "outputs": []
    }
  ]
}